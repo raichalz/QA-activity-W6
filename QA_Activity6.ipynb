{
  "nbformat": 4,
  "nbformat_minor": 0,
  "metadata": {
    "colab": {
      "name": "QA Activity6.ipynb",
      "provenance": [],
      "collapsed_sections": []
    },
    "kernelspec": {
      "name": "python3",
      "display_name": "Python 3"
    },
    "language_info": {
      "name": "python"
    }
  },
  "cells": [
    {
      "cell_type": "code",
      "metadata": {
        "colab": {
          "base_uri": "https://localhost:8080/",
          "height": 521
        },
        "id": "DS8uvAToArns",
        "outputId": "790cd222-f0c9-4c7c-ff0b-ccedd6028f94"
      },
      "source": [
        "import pandas as pd\n",
        "data=pd.read_excel(\"/content/Dataset_w6.xlsx\")\n",
        "data"
      ],
      "execution_count": 3,
      "outputs": [
        {
          "output_type": "execute_result",
          "data": {
            "text/html": [
              "<div>\n",
              "<style scoped>\n",
              "    .dataframe tbody tr th:only-of-type {\n",
              "        vertical-align: middle;\n",
              "    }\n",
              "\n",
              "    .dataframe tbody tr th {\n",
              "        vertical-align: top;\n",
              "    }\n",
              "\n",
              "    .dataframe thead th {\n",
              "        text-align: right;\n",
              "    }\n",
              "</style>\n",
              "<table border=\"1\" class=\"dataframe\">\n",
              "  <thead>\n",
              "    <tr style=\"text-align: right;\">\n",
              "      <th></th>\n",
              "      <th>country</th>\n",
              "      <th>Region</th>\n",
              "      <th>Surface area (km2)</th>\n",
              "      <th>Population in thousands (2017)</th>\n",
              "      <th>GDP per capita (current US$)</th>\n",
              "      <th>Agricultural production index</th>\n",
              "      <th>International trade: Imports (million US$)</th>\n",
              "    </tr>\n",
              "  </thead>\n",
              "  <tbody>\n",
              "    <tr>\n",
              "      <th>0</th>\n",
              "      <td>Afghanistan</td>\n",
              "      <td>SouthernAsia</td>\n",
              "      <td>652864</td>\n",
              "      <td>35530</td>\n",
              "      <td>623.2</td>\n",
              "      <td>125</td>\n",
              "      <td>3568</td>\n",
              "    </tr>\n",
              "    <tr>\n",
              "      <th>1</th>\n",
              "      <td>Albania</td>\n",
              "      <td>SouthernEurope</td>\n",
              "      <td>28748</td>\n",
              "      <td>2930</td>\n",
              "      <td>3984.2</td>\n",
              "      <td>134</td>\n",
              "      <td>4669</td>\n",
              "    </tr>\n",
              "    <tr>\n",
              "      <th>2</th>\n",
              "      <td>Algeria</td>\n",
              "      <td>NorthernAfrica</td>\n",
              "      <td>2381741</td>\n",
              "      <td>41318</td>\n",
              "      <td>4154.1</td>\n",
              "      <td>160</td>\n",
              "      <td>47091</td>\n",
              "    </tr>\n",
              "    <tr>\n",
              "      <th>3</th>\n",
              "      <td>Angola</td>\n",
              "      <td>MiddleAfrica</td>\n",
              "      <td>1246700</td>\n",
              "      <td>29784</td>\n",
              "      <td>4714.1</td>\n",
              "      <td>175</td>\n",
              "      <td>8790</td>\n",
              "    </tr>\n",
              "    <tr>\n",
              "      <th>4</th>\n",
              "      <td>Antigua and Barbuda</td>\n",
              "      <td>Caribbean</td>\n",
              "      <td>442</td>\n",
              "      <td>102</td>\n",
              "      <td>14764.5</td>\n",
              "      <td>88</td>\n",
              "      <td>491</td>\n",
              "    </tr>\n",
              "    <tr>\n",
              "      <th>...</th>\n",
              "      <td>...</td>\n",
              "      <td>...</td>\n",
              "      <td>...</td>\n",
              "      <td>...</td>\n",
              "      <td>...</td>\n",
              "      <td>...</td>\n",
              "      <td>...</td>\n",
              "    </tr>\n",
              "    <tr>\n",
              "      <th>191</th>\n",
              "      <td>Venezuela (Bolivarian Republic of)</td>\n",
              "      <td>SouthAmerica</td>\n",
              "      <td>912050</td>\n",
              "      <td>31977</td>\n",
              "      <td>11068.9</td>\n",
              "      <td>118</td>\n",
              "      <td>16324</td>\n",
              "    </tr>\n",
              "    <tr>\n",
              "      <th>192</th>\n",
              "      <td>Viet Nam</td>\n",
              "      <td>South-easternAsia</td>\n",
              "      <td>330967</td>\n",
              "      <td>95541</td>\n",
              "      <td>2067.9</td>\n",
              "      <td>136</td>\n",
              "      <td>174111</td>\n",
              "    </tr>\n",
              "    <tr>\n",
              "      <th>193</th>\n",
              "      <td>Yemen</td>\n",
              "      <td>WesternAsia</td>\n",
              "      <td>527968</td>\n",
              "      <td>28250</td>\n",
              "      <td>1106.4</td>\n",
              "      <td>136</td>\n",
              "      <td>6861</td>\n",
              "    </tr>\n",
              "    <tr>\n",
              "      <th>194</th>\n",
              "      <td>Zambia</td>\n",
              "      <td>EasternAfrica</td>\n",
              "      <td>752612</td>\n",
              "      <td>17094</td>\n",
              "      <td>1311.1</td>\n",
              "      <td>179</td>\n",
              "      <td>7442</td>\n",
              "    </tr>\n",
              "    <tr>\n",
              "      <th>195</th>\n",
              "      <td>Zimbabwe</td>\n",
              "      <td>EasternAfrica</td>\n",
              "      <td>390757</td>\n",
              "      <td>16530</td>\n",
              "      <td>890.4</td>\n",
              "      <td>99</td>\n",
              "      <td>5212</td>\n",
              "    </tr>\n",
              "  </tbody>\n",
              "</table>\n",
              "<p>196 rows × 7 columns</p>\n",
              "</div>"
            ],
            "text/plain": [
              "                                country  ... International trade: Imports (million US$)\n",
              "0                           Afghanistan  ...                                       3568\n",
              "1                               Albania  ...                                       4669\n",
              "2                               Algeria  ...                                      47091\n",
              "3                                Angola  ...                                       8790\n",
              "4                   Antigua and Barbuda  ...                                        491\n",
              "..                                  ...  ...                                        ...\n",
              "191  Venezuela (Bolivarian Republic of)  ...                                      16324\n",
              "192                            Viet Nam  ...                                     174111\n",
              "193                               Yemen  ...                                       6861\n",
              "194                              Zambia  ...                                       7442\n",
              "195                            Zimbabwe  ...                                       5212\n",
              "\n",
              "[196 rows x 7 columns]"
            ]
          },
          "metadata": {},
          "execution_count": 3
        }
      ]
    },
    {
      "cell_type": "markdown",
      "metadata": {
        "id": "ddm9MwcwBiTl"
      },
      "source": [
        " 5.Find out which region has more consistent with respect to GDP percapita (current US$)"
      ]
    },
    {
      "cell_type": "code",
      "metadata": {
        "colab": {
          "base_uri": "https://localhost:8080/"
        },
        "id": "teJjccjABu-O",
        "outputId": "f95cf952-a3bd-4519-d035-fffcd3afed88"
      },
      "source": [
        "cgdata=data.groupby(['Region']).std()\n",
        "cgdata['GDP per capita (current US$)'].sort_values(ascending=True)"
      ],
      "execution_count": 4,
      "outputs": [
        {
          "output_type": "execute_result",
          "data": {
            "text/plain": [
              "Region\n",
              "WesternAfrica          815.095399\n",
              "NorthernAfrica         974.706575\n",
              "SouthernAfrica        2177.551120\n",
              "SouthernAsia          2855.708179\n",
              "EasternAfrica         3716.131770\n",
              "CentralAsia           4152.215490\n",
              "CentralAmerica        4180.440883\n",
              "SouthAmerica          4273.707394\n",
              "Micronesia            4820.669694\n",
              "MiddleAfrica          5274.846281\n",
              "EasternEurope         5415.488739\n",
              "Polynesia             6956.250286\n",
              "Oceania               9233.329638\n",
              "SouthernEurope        9541.703216\n",
              "Melanesia            13855.842686\n",
              "Caribbean            14579.371326\n",
              "South-easternAsia    16311.810656\n",
              "WesternAsia          18812.151459\n",
              "NorthernEurope       20671.030185\n",
              "WesternEurope        24770.467728\n",
              "NorthernAmerica      25749.619445\n",
              "EasternAsia          27485.120923\n",
              "Name: GDP per capita (current US$), dtype: float64"
            ]
          },
          "metadata": {},
          "execution_count": 4
        }
      ]
    },
    {
      "cell_type": "markdown",
      "metadata": {
        "id": "8zQwkmyzEfnf"
      },
      "source": [
        "REGION WITH LESS STANDATD DEVIATION SHOWS DATA IS NOT WIDELY SPREAD AND CLUSTERED TOWARDS THE MEAN.SO **WESTERN AFRICAN** REGION IS MORE CONSISTENT WITH RESPECT GDP PER CAPITA($)"
      ]
    }
  ]
}